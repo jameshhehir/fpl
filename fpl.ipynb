{
 "cells": [
  {
   "cell_type": "raw",
   "id": "edf3a47f-8347-4792-9be9-804c28c1e948",
   "metadata": {},
   "source": [
    "import requests\n",
    "import pandas as pd\n",
    "import numpy as np"
   ]
  },
  {
   "cell_type": "raw",
   "id": "726fc6e7-7536-45ac-8c8c-93171139e624",
   "metadata": {},
   "source": [
    "url = 'https://fantasy.premierleague.com/api/bootstrap-static/'"
   ]
  },
  {
   "cell_type": "raw",
   "id": "9831f686-2d1e-487b-9a2e-3b26fa68c762",
   "metadata": {},
   "source": [
    "r = requests.get(url)"
   ]
  },
  {
   "cell_type": "raw",
   "id": "f84f4775-9d28-4294-ad67-6316ba3d23fa",
   "metadata": {},
   "source": [
    "json = r.json()"
   ]
  },
  {
   "cell_type": "raw",
   "id": "85a0f7de-5c83-43d5-88b3-29407c1359e4",
   "metadata": {},
   "source": [
    "json.keys()"
   ]
  },
  {
   "cell_type": "raw",
   "id": "63eacc8c-ed3f-43de-a2ef-c8fd63f8f9bf",
   "metadata": {},
   "source": [
    "elements_df = pd.DataFrame(json['elements'])\n",
    "elements_types_df = pd.DataFrame(json['element_types'])\n",
    "teams_df = pd.DataFrame(json['teams'])"
   ]
  },
  {
   "cell_type": "raw",
   "id": "23ecb7c8-f97e-4937-b4d3-514efe0357ce",
   "metadata": {},
   "source": [
    "elements_df.head()"
   ]
  },
  {
   "cell_type": "raw",
   "id": "3c272225-846f-49c1-82f2-d3c6fd6ab2ac",
   "metadata": {
    "scrolled": true
   },
   "source": [
    "elements_df.columns"
   ]
  },
  {
   "cell_type": "raw",
   "id": "12928f63-1883-4f2c-a961-42749ebe23d6",
   "metadata": {},
   "source": [
    "slim_elements_df = elements_df[['second_name','team','element_type','selected_by_percent','now_cost','minutes','transfers_in','value_season','total_points']]"
   ]
  },
  {
   "cell_type": "raw",
   "id": "ec7a4ab6-7177-4c63-9466-5796268f724f",
   "metadata": {},
   "source": [
    "slim_elements_df.head()"
   ]
  },
  {
   "cell_type": "raw",
   "id": "54dd4a7f-48e5-43d6-98db-45657f77e8b4",
   "metadata": {},
   "source": [
    "slim_elements_df['position'] = slim_elements_df.element_type.map(elements_types_df.set_index('id').singular_name)"
   ]
  },
  {
   "cell_type": "raw",
   "id": "0fe8bad5-57b5-4ed0-afbe-cf69c3d7f0d6",
   "metadata": {},
   "source": [
    "slim_elements_df.head()"
   ]
  },
  {
   "cell_type": "raw",
   "id": "0e0f581a-97aa-4069-a6bb-391845ed9a17",
   "metadata": {},
   "source": [
    "slim_elements_df['team'] = slim_elements_df.team.map(teams_df.set_index('id').name)"
   ]
  },
  {
   "cell_type": "raw",
   "id": "d7a46641-581f-426a-ba21-1fa602fb5761",
   "metadata": {},
   "source": [
    "slim_elements_df.head()"
   ]
  },
  {
   "cell_type": "raw",
   "id": "47438f77-42d1-449f-a575-fa9752e45b61",
   "metadata": {},
   "source": [
    "slim_elements_df['value'] = slim_elements_df.value_season.astype(float)"
   ]
  },
  {
   "cell_type": "raw",
   "id": "8ebca31b-d722-41e3-9b63-6b5626035be8",
   "metadata": {},
   "source": [
    "slim_elements_df.sort_values('value',ascending=False).head(10)"
   ]
  },
  {
   "cell_type": "raw",
   "id": "91f3a64f-d941-4925-8d74-cf371c0ddae0",
   "metadata": {},
   "source": [
    "slim_elements_df.pivot_table(index='position',values='value',aggfunc=np.mean).reset_index()"
   ]
  },
  {
   "cell_type": "raw",
   "id": "7119a300-e245-4192-b0b3-517b21177bd5",
   "metadata": {},
   "source": [
    "pivot=slim_elements_df.pivot_table(index='position',values='value',aggfunc=np.mean).reset_index()"
   ]
  },
  {
   "cell_type": "raw",
   "id": "8787080b-c7da-4980-a890-597f651086d4",
   "metadata": {},
   "source": [
    "pivot.sort_values('value',ascending=False)"
   ]
  },
  {
   "cell_type": "raw",
   "id": "52d84426-18a4-470e-8895-1d5f48c7a27e",
   "metadata": {},
   "source": [
    "slim_elements_df = slim_elements_df.loc[slim_elements_df.value > 0]"
   ]
  },
  {
   "cell_type": "raw",
   "id": "97aecf66-5798-44e9-bef3-8f8a746877f5",
   "metadata": {},
   "source": [
    "pivot = slim_elements_df.pivot_table(index='position',values='value',aggfunc=np.mean).reset_index()"
   ]
  },
  {
   "cell_type": "raw",
   "id": "a6d9c6ca-d026-4625-a6e0-7b22220003f7",
   "metadata": {},
   "source": [
    "pivot.sort_values('value',ascending=False)"
   ]
  },
  {
   "cell_type": "raw",
   "id": "35f6099c-57d7-49c4-94b7-a972aa3c6cb3",
   "metadata": {},
   "source": [
    "team_pivot = slim_elements_df.pivot_table(index='team',values='value',aggfunc=np.mean).reset_index()"
   ]
  },
  {
   "cell_type": "raw",
   "id": "2ec60132-a6cd-4382-bfe9-d83259f6e3e6",
   "metadata": {},
   "source": [
    "team_pivot.sort_values('value',ascending=False)"
   ]
  },
  {
   "cell_type": "raw",
   "id": "a28da5e4-23bc-44e8-8f04-e6e7508c4a2a",
   "metadata": {},
   "source": [
    "fwd_df = slim_elements_df.loc[slim_elements_df.position == 'Forward']\n",
    "mid_df = slim_elements_df.loc[slim_elements_df.position == 'Midfielder']\n",
    "def_df = slim_elements_df.loc[slim_elements_df.position == 'Defender']\n",
    "goal_df = slim_elements_df.loc[slim_elements_df.position == 'Goalkeeper']"
   ]
  },
  {
   "cell_type": "raw",
   "id": "5feb4b86-309c-4bc1-82ac-77f72edd6385",
   "metadata": {},
   "source": [
    "goal_df.sort_values('value',ascending=False).head(10)"
   ]
  },
  {
   "cell_type": "raw",
   "id": "7f236add-77ed-4c2a-9f4e-04c4264e45d8",
   "metadata": {},
   "source": [
    "def_df.sort_values('value',ascending=False).head(10)"
   ]
  },
  {
   "cell_type": "raw",
   "id": "b6aa766f-0292-43d1-80f4-e80a08a77d6f",
   "metadata": {},
   "source": [
    "mid_df.sort_values('value',ascending=False).head(10)"
   ]
  },
  {
   "cell_type": "raw",
   "id": "0f49c69c-0546-47a6-b09e-a681aab0d2a1",
   "metadata": {},
   "source": [
    "fwd_df.sort_values('value',ascending=False).head(10)"
   ]
  },
  {
   "cell_type": "raw",
   "id": "a8e94e65-3f93-4b7f-b9a1-39d4f46376a8",
   "metadata": {},
   "source": []
  }
 ],
 "metadata": {
  "kernelspec": {
   "display_name": "Python 3 (ipykernel)",
   "language": "python",
   "name": "python3"
  },
  "language_info": {
   "codemirror_mode": {
    "name": "ipython",
    "version": 3
   },
   "file_extension": ".py",
   "mimetype": "text/x-python",
   "name": "python",
   "nbconvert_exporter": "python",
   "pygments_lexer": "ipython3",
   "version": "3.12.3"
  }
 },
 "nbformat": 4,
 "nbformat_minor": 5
}
